{
 "cells": [
  {
   "cell_type": "code",
   "execution_count": 1,
   "metadata": {},
   "outputs": [],
   "source": [
    "% matplotlib inline\n",
    "import matplotlib.pyplot as plt"
   ]
  },
  {
   "cell_type": "code",
   "execution_count": 27,
   "metadata": {},
   "outputs": [],
   "source": [
    "import os\n",
    "import sys\n",
    "import random\n",
    "from glob import glob\n",
    "\n",
    "from multiprocessing import Pool\n",
    "import numpy as np\n",
    "import pandas as pd\n",
    "\n",
    "from tqdm import tqdm\n",
    "import scipy.misc\n",
    "from skimage.morphology import label\n",
    "import skimage\n",
    "\n",
    "import warnings\n",
    "warnings.filterwarnings('ignore')"
   ]
  },
  {
   "cell_type": "code",
   "execution_count": 93,
   "metadata": {},
   "outputs": [],
   "source": [
    "# Set some parameters\n",
    "IMG_CHANNELS = 3\n",
    "DATA = {\n",
    "    'TRAIN': '../data/train/',\n",
    "    'TEST': '../data/test/'\n",
    "}\n",
    "\n",
    "train_paths = glob(os.path.join(DATA['TRAIN'], '*'))\n",
    "test_paths = glob(os.path.join(DATA['TEST'], '*'))\n",
    "\n",
    "seed = 42\n",
    "BATCH_SIZE = 16\n",
    "SIDE = 256\n",
    "STEP = SIDE // 4\n",
    "\n",
    "np.random.seed = seed\n",
    "\n",
    "SPLIT = .9"
   ]
  },
  {
   "cell_type": "code",
   "execution_count": 4,
   "metadata": {},
   "outputs": [],
   "source": [
    "def load(path, test_mode=False):\n",
    "    im = scipy.misc.imread(os.path.join(path, 'images', os.path.basename(path) + '.png'))[..., :IMG_CHANNELS]\n",
    "    \n",
    "    if im.std(-1).sum() > 10:\n",
    "        im = np.abs(im.astype(np.float).mean(-1) - 255.)\n",
    "    else:\n",
    "        im = im.astype(np.float).mean(-1)\n",
    "    \n",
    "    if test_mode:\n",
    "        return im\n",
    "    \n",
    "    return np.dstack([\n",
    "        im,\n",
    "        np.load(os.path.join(path, 'mask_edt_bn.npy')),\n",
    "    ])"
   ]
  },
  {
   "cell_type": "code",
   "execution_count": 5,
   "metadata": {},
   "outputs": [],
   "source": [
    "def preprocess_val(patch):\n",
    "    return np.dstack([\n",
    "        scipy.ndimage.zoom(patch[..., :-1].mean(-1), (SIDE / patch.shape[0], SIDE / patch.shape[1])),\n",
    "        scipy.ndimage.zoom(patch[..., -1], (SIDE / patch.shape[0], SIDE / patch.shape[1]), order=0)\n",
    "    ])"
   ]
  },
  {
   "cell_type": "code",
   "execution_count": 311,
   "metadata": {},
   "outputs": [],
   "source": [
    "def preprocess_test(patch):\n",
    "    return scipy.ndimage.zoom(patch, (SIDE / patch.shape[0], SIDE / patch.shape[1]))\n",
    "\n",
    "\n",
    "def generator_test(paths, batch_size=BATCH_SIZE, train_mode=False):\n",
    "    while True:\n",
    "        if train_mode:\n",
    "            np.random.shuffle(paths)\n",
    "            \n",
    "        for i in range(len(paths) // batch_size + 1):\n",
    "            batch = paths[i * batch_size: (i + 1) * batch_size]\n",
    "#             with Pool(4) as pool:\n",
    "#                 processed = pool.map(load, batch)\n",
    "            processed = np.zeros((batch_size, SIDE, SIDE))\n",
    "            for j, path in enumerate(batch):\n",
    "                im = load(path, test_mode=True)\n",
    "                processed[j] = preprocess_test(im)\n",
    "\n",
    "            yield np.expand_dims(processed, -1) / 255."
   ]
  },
  {
   "cell_type": "code",
   "execution_count": 7,
   "metadata": {},
   "outputs": [],
   "source": [
    "def scale_img_canals(an_img):\n",
    "    for i in range(IMG_CHANNELS):\n",
    "        canal = an_img[:,:,i]\n",
    "        canal = canal - canal.min()\n",
    "        canalmax = canal.max()\n",
    "        if canalmax > 0:\n",
    "            canal = (canal * 255 / canalmax).astype(int)\n",
    "        an_img[:,:,i] = canal\n",
    "    return an_img"
   ]
  },
  {
   "cell_type": "code",
   "execution_count": 393,
   "metadata": {},
   "outputs": [],
   "source": [
    "def preprocess(patch):\n",
    "    scale = np.random.uniform(.5, 1.5, size=2)\n",
    "    \n",
    "    if np.random.randint(2):\n",
    "        patch = np.flip(patch, 0)\n",
    "    if np.random.randint(2):\n",
    "        patch = np.flip(patch, 1)\n",
    "    if np.random.randint(2):\n",
    "        patch = np.rot90(patch, k=np.random.randint(3) + 1)\n",
    "    \n",
    "    if not np.random.randint(3):\n",
    "        patch = np.concatenate([np.flip(patch, 0), patch, np.flip(patch, 0)])\n",
    "    if not np.random.randint(3):\n",
    "        patch = np.concatenate([np.flip(patch, 1), patch, np.flip(patch, 1)], 1)\n",
    "    \n",
    "    \n",
    "    if np.random.randint(4):\n",
    "        rotate = np.random.uniform(-40, 40)\n",
    "        patch = np.dstack([\n",
    "            scipy.ndimage.rotate(patch[..., 0], rotate),\n",
    "            scipy.ndimage.rotate(patch[..., -1:], rotate, order=0)\n",
    "        ])\n",
    "#         patch = skimage.transform.rotate(patch, rotate, mode='constant', preserve_range=True)\n",
    "    \n",
    "    window = np.clip(SIDE * scale, 0, min(patch.shape[:-1]))\n",
    "    if np.count_nonzero(patch[..., -1]):\n",
    "        coords = np.array(np.where(patch[..., -1]))\n",
    "        cmin, cmax = coords.min(1) - window, coords.max(1)\n",
    "        point = np.array([\n",
    "            np.random.randint(cmin[0], cmax[0]),\n",
    "            np.random.randint(cmin[1], cmax[1])\n",
    "        ])\n",
    "    else:\n",
    "        point = np.array([\n",
    "            np.random.randint(0, patch.shape[0] - window[0] + 1),\n",
    "            np.random.randint(0, patch.shape[1] - window[1] + 1)\n",
    "        ]) \n",
    "    point = np.clip(point, 0, np.array(patch.shape[:-1]) - window).astype(np.int)\n",
    "\n",
    "    patch = patch[\n",
    "        point[0]: point[0] + int(window[0]), \n",
    "        point[1]: point[1] + int(window[1])\n",
    "    ]\n",
    "    \n",
    "    return np.dstack([\n",
    "        scipy.ndimage.zoom(patch[..., 0],  (SIDE / patch.shape[0], SIDE / patch.shape[1])),\n",
    "        scipy.ndimage.zoom(patch[..., -1],  (SIDE / patch.shape[0], SIDE / patch.shape[1]), order=0)\n",
    "    ])"
   ]
  },
  {
   "cell_type": "code",
   "execution_count": 394,
   "metadata": {},
   "outputs": [],
   "source": [
    "def generator(paths, preprocess, batch_size=BATCH_SIZE, train_mode=False):\n",
    "    while True:\n",
    "        if train_mode:\n",
    "            np.random.shuffle(paths)\n",
    "            \n",
    "        for i in range(len(paths) // batch_size + 1):\n",
    "            batch = paths[i * batch_size: (i + 1) * batch_size]\n",
    "#             with Pool(4) as pool:\n",
    "#                 processed = pool.map(load, batch)\n",
    "            processed = np.zeros((batch_size, SIDE, SIDE, 2))\n",
    "            for j, path in enumerate(batch):\n",
    "                im = load(path)\n",
    "                processed[j] = preprocess(im)\n",
    "\n",
    "            yield np.expand_dims(processed[..., 0], -1) / 255., np.expand_dims(processed[..., -1], -1)"
   ]
  },
  {
   "cell_type": "code",
   "execution_count": 395,
   "metadata": {},
   "outputs": [],
   "source": [
    "train_gen = generator(train_paths, preprocess, batch_size=BATCH_SIZE, train_mode=True)\n",
    "a = next(train_gen)"
   ]
  },
  {
   "cell_type": "code",
   "execution_count": 396,
   "metadata": {
    "scrolled": false
   },
   "outputs": [
    {
     "data": {
      "image/png": "[encoded data removed]",
      "text/plain": [
       "<matplotlib.figure.Figure at 0x7fae4ef67908>"
      ]
     },
     "metadata": {},
     "output_type": "display_data"
    },
    {
     "data": {
      "text/plain": [
       "<matplotlib.image.AxesImage at 0x7fae4c629470>"
      ]
     },
     "execution_count": 396,
     "metadata": {},
     "output_type": "execute_result"
    },
    {
     "data": {
      "image/png": "[encoded data removed]",
      "text/plain": [
       "<matplotlib.figure.Figure at 0x7fae4ef2bda0>"
      ]
     },
     "metadata": {},
     "output_type": "display_data"
    }
   ],
   "source": [
    "i = 2\n",
    "plt.imshow(a[0][i,...,0])\n",
    "plt.show()\n",
    "plt.imshow(a[1][i,...,0])"
   ]
  },
  {
   "cell_type": "code",
   "execution_count": 397,
   "metadata": {},
   "outputs": [],
   "source": [
    "from keras import backend as K\n",
    "\n",
    "\n",
    "K.set_image_data_format('channels_last')  # TF dimension ordering in this code\n",
    "\n",
    "# \n",
    "# \n",
    "# \n",
    "# \n",
    "# \n",
    "# \n",
    "# \n",
    "# \n",
    "smooth = 1.\n",
    "# \n",
    "# \n",
    "# \n",
    "\n",
    "\n",
    "\n",
    "def dice_coef(y_true, y_pred):\n",
    "    y_true_f = K.flatten(y_true)\n",
    "    y_pred_f = K.flatten(y_pred)\n",
    "    intersection = K.sum(y_true_f * y_pred_f)\n",
    "    return (2. * intersection + smooth) / (K.sum(K.relu(y_true_f)) + K.sum(K.relu(y_pred_f)) + smooth)\n",
    "\n",
    "\n",
    "def dice_coef_loss(y_true, y_pred):\n",
    "    return -dice_coef(y_true, y_pred)"
   ]
  },
  {
   "cell_type": "code",
   "execution_count": 398,
   "metadata": {
    "scrolled": false
   },
   "outputs": [
    {
     "name": "stdout",
     "output_type": "stream",
     "text": [
      "Getting and resizing test images ... \n"
     ]
    },
    {
     "name": "stderr",
     "output_type": "stream",
     "text": [
      "100%|██████████| 65/65 [00:00<00:00, 143.93it/s]\n"
     ]
    }
   ],
   "source": [
    "# std_paths = list()\n",
    "# for n, path in tqdm(enumerate(train_paths), total=len(train_paths)):\n",
    "#     img = imread(os.path.join(path, 'images', os.path.basename(path) + '.png'))[..., :IMG_CHANNELS]\n",
    "#     mask = list()\n",
    "#     for mask_file in next(os.walk(path + '/masks/'))[2]:\n",
    "#         mask.append(imread(path + '/masks/' + mask_file))\n",
    "#     std_paths.append((path, img.std(-1).sum(), len(mask)))\n",
    "#     mask = np.array(mask).max(0)\n",
    "#     np.save(path + '/mask', mask)\n",
    "\n",
    "\n",
    "# std_paths = list()\n",
    "# for n, path in tqdm(enumerate(test_paths), total=len(test_paths)):\n",
    "#     img = scipy.misc.imread(os.path.join(path, 'images', os.path.basename(path) + '.png'))[..., :IMG_CHANNELS]\n",
    "#     std_paths.append((path, img.std(-1).sum()))\n",
    "\n",
    "\n",
    "# for n, path in tqdm(enumerate(train_paths), total=len(train_paths)):\n",
    "#     mask = list()\n",
    "#     for mask_file in next(os.walk(path + '/masks/'))[2]:\n",
    "#         im = scipy.misc.imread(path + '/masks/' + mask_file)\n",
    "#         im = scipy.ndimage.distance_transform_edt(im)\n",
    "#         im[im == 0] = 1e+7\n",
    "#         mask.append(im)\n",
    "#     mask = np.array(mask).min(0)\n",
    "#     mask[mask == 1e+7] = 0\n",
    "#     mask[scipy.ndimage.binary_dilation((mask == 1), iterations=2) & np.logical_not(mask >= 1.1)] = -1\n",
    "#     mask[mask > 0] = 1\n",
    "#     np.save(path + '/mask_edt_bn', mask)\n",
    "\n",
    "\n",
    "sizes_test = dict()\n",
    "print('Getting and resizing test images ... ')\n",
    "sys.stdout.flush()\n",
    "for n, path in tqdm(enumerate(test_paths), total=len(test_paths)):\n",
    "    img = scipy.misc.imread(os.path.join(path, 'images', os.path.basename(path) + '.png'))[..., :IMG_CHANNELS]\n",
    "    sizes_test[path] = ([img.shape[0], img.shape[1]])"
   ]
  },
  {
   "cell_type": "code",
   "execution_count": 399,
   "metadata": {},
   "outputs": [],
   "source": [
    "import pickle\n",
    "\n",
    "# pickle.dump(std_paths, open('../data/test_std_paths.pkl', 'wb'))\n",
    "std_paths = pickle.load(open('../data/std_paths.pkl', 'rb'))\n",
    "test_std_paths = pickle.load(open('../data/test_std_paths.pkl', 'rb'))"
   ]
  },
  {
   "cell_type": "code",
   "execution_count": 400,
   "metadata": {},
   "outputs": [],
   "source": [
    "paths = [path[0] for path in std_paths]\n",
    "rs = np.random.RandomState(seed=12)\n",
    "rs.shuffle(paths)\n"
   ]
  },
  {
   "cell_type": "code",
   "execution_count": 401,
   "metadata": {
    "scrolled": true
   },
   "outputs": [
    {
     "name": "stdout",
     "output_type": "stream",
     "text": [
      "Epoch 1/100\n",
      "37/38 [============================>.] - ETA: 1s - loss: -0.2949 - binary_crossentropy: 0.6860 - dice_coef: 0.3901\n",
      "Epoch 00001: val_loss improved from inf to -0.57719, saving model to ../data/elu_unet_val_0\n",
      "38/38 [==============================] - 76s 2s/step - loss: -0.3056 - binary_crossentropy: 0.6669 - dice_coef: 0.4038 - val_loss: -0.5772 - val_binary_crossentropy: 0.1991 - val_dice_coef: 0.7576\n",
      "Epoch 2/100\n",
      "37/38 [============================>.] - ETA: 1s - loss: -0.6346 - binary_crossentropy: -0.0024 - dice_coef: 0.8866\n",
      "Epoch 00002: val_loss improved from -0.57719 to -0.76063, saving model to ../data/elu_unet_val_0\n",
      "38/38 [==============================] - 60s 2s/step - loss: -0.6398 - binary_crossentropy: -0.0060 - dice_coef: 0.8916 - val_loss: -0.7606 - val_binary_crossentropy: -0.1949 - val_dice_coef: 1.0794\n",
      "Epoch 3/100\n",
      "37/38 [============================>.] - ETA: 1s - loss: -0.7320 - binary_crossentropy: -0.1325 - dice_coef: 1.0155\n",
      "Epoch 00003: val_loss improved from -0.76063 to -0.77134, saving model to ../data/elu_unet_val_0\n",
      "38/38 [==============================] - 70s 2s/step - loss: -0.7306 - binary_crossentropy: -0.1339 - dice_coef: 1.0193 - val_loss: -0.7713 - val_binary_crossentropy: -0.1842 - val_dice_coef: 1.0837\n",
      "Epoch 4/100\n",
      "37/38 [============================>.] - ETA: 1s - loss: -0.7298 - binary_crossentropy: -0.1350 - dice_coef: 1.0385\n",
      "Epoch 00004: val_loss improved from -0.77134 to -0.78277, saving model to ../data/elu_unet_val_0\n",
      "38/38 [==============================] - 62s 2s/step - loss: -0.7312 - binary_crossentropy: -0.1356 - dice_coef: 1.0400 - val_loss: -0.7828 - val_binary_crossentropy: -0.2237 - val_dice_coef: 1.0944\n",
      "Epoch 5/100\n",
      "37/38 [============================>.] - ETA: 1s - loss: -0.7182 - binary_crossentropy: -0.0853 - dice_coef: 1.0024\n",
      "Epoch 00005: val_loss did not improve\n",
      "38/38 [==============================] - 65s 2s/step - loss: -0.7165 - binary_crossentropy: -0.0841 - dice_coef: 1.0014 - val_loss: -0.7796 - val_binary_crossentropy: -0.1900 - val_dice_coef: 1.0929\n",
      "Epoch 6/100\n",
      "37/38 [============================>.] - ETA: 1s - loss: -0.6686 - binary_crossentropy: 0.0369 - dice_coef: 0.9284\n",
      "Epoch 00006: val_loss did not improve\n",
      "38/38 [==============================] - 75s 2s/step - loss: -0.6700 - binary_crossentropy: 0.0297 - dice_coef: 0.9452 - val_loss: -0.7300 - val_binary_crossentropy: -0.0690 - val_dice_coef: 1.0558\n",
      "Epoch 7/100\n",
      "37/38 [============================>.] - ETA: 1s - loss: -0.7036 - binary_crossentropy: -0.0548 - dice_coef: 0.9961\n",
      "Epoch 00007: val_loss did not improve\n",
      "38/38 [==============================] - 64s 2s/step - loss: -0.7041 - binary_crossentropy: -0.0496 - dice_coef: 0.9937 - val_loss: -0.7533 - val_binary_crossentropy: -0.1256 - val_dice_coef: 1.0627\n",
      "Epoch 8/100\n",
      "37/38 [============================>.] - ETA: 1s - loss: -0.7497 - binary_crossentropy: -0.1399 - dice_coef: 1.0547\n",
      "Epoch 00008: val_loss improved from -0.78277 to -0.79962, saving model to ../data/elu_unet_val_0\n",
      "38/38 [==============================] - 72s 2s/step - loss: -0.7515 - binary_crossentropy: -0.1416 - dice_coef: 1.0561 - val_loss: -0.7996 - val_binary_crossentropy: -0.2389 - val_dice_coef: 1.1195\n",
      "Epoch 9/100\n",
      "37/38 [============================>.] - ETA: 1s - loss: -0.7631 - binary_crossentropy: -0.1673 - dice_coef: 1.0540\n",
      "Epoch 00009: val_loss improved from -0.79962 to -0.81189, saving model to ../data/elu_unet_val_0\n",
      "38/38 [==============================] - 68s 2s/step - loss: -0.7641 - binary_crossentropy: -0.1694 - dice_coef: 1.0566 - val_loss: -0.8119 - val_binary_crossentropy: -0.2662 - val_dice_coef: 1.1297\n",
      "Epoch 10/100\n",
      "37/38 [============================>.] - ETA: 1s - loss: -0.7726 - binary_crossentropy: -0.1903 - dice_coef: 1.0844\n",
      "Epoch 00010: val_loss improved from -0.81189 to -0.82486, saving model to ../data/elu_unet_val_0\n",
      "38/38 [==============================] - 66s 2s/step - loss: -0.7731 - binary_crossentropy: -0.1868 - dice_coef: 1.0823 - val_loss: -0.8249 - val_binary_crossentropy: -0.3034 - val_dice_coef: 1.1367\n",
      "Epoch 11/100\n",
      "37/38 [============================>.] - ETA: 1s - loss: -0.7849 - binary_crossentropy: -0.2080 - dice_coef: 1.0831\n",
      "Epoch 00011: val_loss did not improve\n",
      "38/38 [==============================] - 68s 2s/step - loss: -0.7876 - binary_crossentropy: -0.2092 - dice_coef: 1.0837 - val_loss: -0.8132 - val_binary_crossentropy: -0.2759 - val_dice_coef: 1.1347\n",
      "Epoch 12/100\n",
      "37/38 [============================>.] - ETA: 1s - loss: -0.7758 - binary_crossentropy: -0.2006 - dice_coef: 1.0894\n",
      "Epoch 00012: val_loss improved from -0.82486 to -0.83094, saving model to ../data/elu_unet_val_0\n",
      "38/38 [==============================] - 70s 2s/step - loss: -0.7750 - binary_crossentropy: -0.1983 - dice_coef: 1.0923 - val_loss: -0.8309 - val_binary_crossentropy: -0.3135 - val_dice_coef: 1.1498\n",
      "Epoch 13/100\n",
      "37/38 [============================>.] - ETA: 1s - loss: -0.7732 - binary_crossentropy: -0.1838 - dice_coef: 1.0776\n",
      "Epoch 00013: val_loss did not improve\n",
      "38/38 [==============================] - 69s 2s/step - loss: -0.7710 - binary_crossentropy: -0.1826 - dice_coef: 1.0781 - val_loss: -0.8287 - val_binary_crossentropy: -0.2974 - val_dice_coef: 1.1372\n",
      "Epoch 14/100\n",
      "37/38 [============================>.] - ETA: 1s - loss: -0.7954 - binary_crossentropy: -0.2395 - dice_coef: 1.1135\n",
      "Epoch 00014: val_loss did not improve\n",
      "38/38 [==============================] - 66s 2s/step - loss: -0.7949 - binary_crossentropy: -0.2388 - dice_coef: 1.1151 - val_loss: -0.8187 - val_binary_crossentropy: -0.2693 - val_dice_coef: 1.1233\n",
      "Epoch 15/100\n",
      "37/38 [============================>.] - ETA: 1s - loss: -0.7967 - binary_crossentropy: -0.2426 - dice_coef: 1.1094\n",
      "Epoch 00015: val_loss improved from -0.83094 to -0.83559, saving model to ../data/elu_unet_val_0\n",
      "38/38 [==============================] - 66s 2s/step - loss: -0.7962 - binary_crossentropy: -0.2392 - dice_coef: 1.1080 - val_loss: -0.8356 - val_binary_crossentropy: -0.3162 - val_dice_coef: 1.1531\n",
      "Epoch 16/100\n",
      "37/38 [============================>.] - ETA: 1s - loss: -0.8008 - binary_crossentropy: -0.2366 - dice_coef: 1.1145\n",
      "Epoch 00016: val_loss improved from -0.83559 to -0.83806, saving model to ../data/elu_unet_val_0\n",
      "38/38 [==============================] - 62s 2s/step - loss: -0.8012 - binary_crossentropy: -0.2371 - dice_coef: 1.1248 - val_loss: -0.8381 - val_binary_crossentropy: -0.3259 - val_dice_coef: 1.1554\n",
      "Epoch 17/100\n",
      "37/38 [============================>.] - ETA: 1s - loss: -0.7742 - binary_crossentropy: -0.1602 - dice_coef: 1.0853\n",
      "Epoch 00017: val_loss did not improve\n",
      "38/38 [==============================] - 65s 2s/step - loss: -0.7769 - binary_crossentropy: -0.1618 - dice_coef: 1.0855 - val_loss: -0.8267 - val_binary_crossentropy: -0.2972 - val_dice_coef: 1.1492\n",
      "Epoch 18/100\n",
      "37/38 [============================>.] - ETA: 1s - loss: -0.7895 - binary_crossentropy: -0.2031 - dice_coef: 1.0975\n",
      "Epoch 00018: val_loss did not improve\n",
      "38/38 [==============================] - 66s 2s/step - loss: -0.7881 - binary_crossentropy: -0.1967 - dice_coef: 1.0936 - val_loss: -0.8050 - val_binary_crossentropy: -0.2231 - val_dice_coef: 1.1230\n",
      "Epoch 19/100\n",
      "37/38 [============================>.] - ETA: 1s - loss: -0.7906 - binary_crossentropy: -0.2199 - dice_coef: 1.1051\n",
      "Epoch 00019: val_loss did not improve\n",
      "38/38 [==============================] - 70s 2s/step - loss: -0.7921 - binary_crossentropy: -0.2237 - dice_coef: 1.1105 - val_loss: -0.8291 - val_binary_crossentropy: -0.2967 - val_dice_coef: 1.1506\n",
      "Epoch 20/100\n",
      "37/38 [============================>.] - ETA: 1s - loss: -0.7958 - binary_crossentropy: -0.2334 - dice_coef: 1.1041\n",
      "Epoch 00020: val_loss did not improve\n",
      "38/38 [==============================] - 68s 2s/step - loss: -0.7987 - binary_crossentropy: -0.2321 - dice_coef: 1.1040 - val_loss: -0.8365 - val_binary_crossentropy: -0.3170 - val_dice_coef: 1.1521\n",
      "Epoch 21/100\n",
      "37/38 [============================>.] - ETA: 1s - loss: -0.8089 - binary_crossentropy: -0.2567 - dice_coef: 1.1277\n",
      "Epoch 00021: val_loss improved from -0.83806 to -0.83957, saving model to ../data/elu_unet_val_0\n",
      "38/38 [==============================] - 60s 2s/step - loss: -0.8109 - binary_crossentropy: -0.2526 - dice_coef: 1.1256 - val_loss: -0.8396 - val_binary_crossentropy: -0.3177 - val_dice_coef: 1.1485\n"
     ]
    },
    {
     "name": "stdout",
     "output_type": "stream",
     "text": [
      "Epoch 22/100\n",
      "37/38 [============================>.] - ETA: 1s - loss: -0.8023 - binary_crossentropy: -0.2437 - dice_coef: 1.1148\n",
      "Epoch 00022: val_loss did not improve\n",
      "38/38 [==============================] - 65s 2s/step - loss: -0.8037 - binary_crossentropy: -0.2454 - dice_coef: 1.1166 - val_loss: -0.8292 - val_binary_crossentropy: -0.2969 - val_dice_coef: 1.1519\n",
      "Epoch 23/100\n",
      "37/38 [============================>.] - ETA: 1s - loss: -0.8070 - binary_crossentropy: -0.2267 - dice_coef: 1.1132\n",
      "Epoch 00023: val_loss did not improve\n",
      "38/38 [==============================] - 69s 2s/step - loss: -0.8088 - binary_crossentropy: -0.2262 - dice_coef: 1.1124 - val_loss: -0.8391 - val_binary_crossentropy: -0.3172 - val_dice_coef: 1.1520\n",
      "Epoch 24/100\n",
      "37/38 [============================>.] - ETA: 1s - loss: -0.7871 - binary_crossentropy: -0.1975 - dice_coef: 1.1001\n",
      "Epoch 00024: val_loss did not improve\n",
      "38/38 [==============================] - 70s 2s/step - loss: -0.7899 - binary_crossentropy: -0.1995 - dice_coef: 1.0997 - val_loss: -0.8300 - val_binary_crossentropy: -0.2813 - val_dice_coef: 1.1372\n",
      "Epoch 25/100\n",
      "37/38 [============================>.] - ETA: 1s - loss: -0.7956 - binary_crossentropy: -0.2264 - dice_coef: 1.1076\n",
      "Epoch 00025: val_loss did not improve\n",
      "38/38 [==============================] - 69s 2s/step - loss: -0.7940 - binary_crossentropy: -0.2258 - dice_coef: 1.1121 - val_loss: -0.8380 - val_binary_crossentropy: -0.3131 - val_dice_coef: 1.1554\n",
      "Epoch 26/100\n",
      "37/38 [============================>.] - ETA: 1s - loss: -0.8047 - binary_crossentropy: -0.2253 - dice_coef: 1.1104\n",
      "Epoch 00026: val_loss did not improve\n",
      "38/38 [==============================] - 69s 2s/step - loss: -0.8045 - binary_crossentropy: -0.2232 - dice_coef: 1.1120 - val_loss: -0.8320 - val_binary_crossentropy: -0.3054 - val_dice_coef: 1.1480\n",
      "Epoch 27/100\n",
      "37/38 [============================>.] - ETA: 1s - loss: -0.8076 - binary_crossentropy: -0.2636 - dice_coef: 1.1279\n",
      "Epoch 00027: val_loss did not improve\n",
      "38/38 [==============================] - 61s 2s/step - loss: -0.8084 - binary_crossentropy: -0.2604 - dice_coef: 1.1269 - val_loss: -0.8331 - val_binary_crossentropy: -0.3069 - val_dice_coef: 1.1535\n",
      "Epoch 28/100\n",
      "37/38 [============================>.] - ETA: 1s - loss: -0.8021 - binary_crossentropy: -0.2314 - dice_coef: 1.1098\n",
      "Epoch 00028: val_loss did not improve\n",
      "38/38 [==============================] - 60s 2s/step - loss: -0.8021 - binary_crossentropy: -0.2292 - dice_coef: 1.1124 - val_loss: -0.8323 - val_binary_crossentropy: -0.3122 - val_dice_coef: 1.1587\n",
      "Epoch 29/100\n",
      "37/38 [============================>.] - ETA: 1s - loss: -0.8085 - binary_crossentropy: -0.2512 - dice_coef: 1.1304\n",
      "Epoch 00029: val_loss did not improve\n",
      "38/38 [==============================] - 70s 2s/step - loss: -0.8079 - binary_crossentropy: -0.2426 - dice_coef: 1.1257 - val_loss: -0.8384 - val_binary_crossentropy: -0.3128 - val_dice_coef: 1.1516\n",
      "Epoch 30/100\n",
      "37/38 [============================>.] - ETA: 1s - loss: -0.8128 - binary_crossentropy: -0.2586 - dice_coef: 1.1241\n",
      "Epoch 00030: val_loss improved from -0.83957 to -0.84142, saving model to ../data/elu_unet_val_0\n",
      "38/38 [==============================] - 67s 2s/step - loss: -0.8151 - binary_crossentropy: -0.2591 - dice_coef: 1.1266 - val_loss: -0.8414 - val_binary_crossentropy: -0.3264 - val_dice_coef: 1.1573\n",
      "Epoch 31/100\n",
      "37/38 [============================>.] - ETA: 1s - loss: -0.8177 - binary_crossentropy: -0.2506 - dice_coef: 1.1224\n",
      "Epoch 00031: val_loss did not improve\n",
      "38/38 [==============================] - 61s 2s/step - loss: -0.8150 - binary_crossentropy: -0.2452 - dice_coef: 1.1201 - val_loss: -0.8398 - val_binary_crossentropy: -0.3213 - val_dice_coef: 1.1588\n",
      "Epoch 32/100\n",
      "37/38 [============================>.] - ETA: 1s - loss: -0.8018 - binary_crossentropy: -0.2308 - dice_coef: 1.1245\n",
      "Epoch 00032: val_loss did not improve\n",
      "38/38 [==============================] - 62s 2s/step - loss: -0.8018 - binary_crossentropy: -0.2285 - dice_coef: 1.1253 - val_loss: -0.8278 - val_binary_crossentropy: -0.2977 - val_dice_coef: 1.1532\n",
      "Epoch 33/100\n",
      "37/38 [============================>.] - ETA: 1s - loss: -0.8134 - binary_crossentropy: -0.2680 - dice_coef: 1.1397\n",
      "Epoch 00033: val_loss improved from -0.84142 to -0.84295, saving model to ../data/elu_unet_val_0\n",
      "38/38 [==============================] - 64s 2s/step - loss: -0.8133 - binary_crossentropy: -0.2670 - dice_coef: 1.1402 - val_loss: -0.8429 - val_binary_crossentropy: -0.3246 - val_dice_coef: 1.1573\n",
      "Epoch 34/100\n",
      "37/38 [============================>.] - ETA: 1s - loss: -0.8144 - binary_crossentropy: -0.2669 - dice_coef: 1.1452\n",
      "Epoch 00034: val_loss did not improve\n",
      "38/38 [==============================] - 59s 2s/step - loss: -0.8146 - binary_crossentropy: -0.2638 - dice_coef: 1.1446 - val_loss: -0.8328 - val_binary_crossentropy: -0.2985 - val_dice_coef: 1.1542\n",
      "Epoch 35/100\n",
      "37/38 [============================>.] - ETA: 1s - loss: -0.8055 - binary_crossentropy: -0.2507 - dice_coef: 1.1261\n",
      "Epoch 00035: val_loss did not improve\n",
      "38/38 [==============================] - 73s 2s/step - loss: -0.8055 - binary_crossentropy: -0.2488 - dice_coef: 1.1246 - val_loss: -0.8365 - val_binary_crossentropy: -0.3113 - val_dice_coef: 1.1574\n",
      "Epoch 36/100\n",
      "37/38 [============================>.] - ETA: 1s - loss: -0.8027 - binary_crossentropy: -0.2377 - dice_coef: 1.1266\n",
      "Epoch 00036: val_loss did not improve\n",
      "38/38 [==============================] - 62s 2s/step - loss: -0.8022 - binary_crossentropy: -0.2333 - dice_coef: 1.1243 - val_loss: -0.8328 - val_binary_crossentropy: -0.3007 - val_dice_coef: 1.1548\n",
      "Epoch 37/100\n",
      "37/38 [============================>.] - ETA: 1s - loss: -0.8072 - binary_crossentropy: -0.2524 - dice_coef: 1.1343\n",
      "Epoch 00037: val_loss did not improve\n",
      "38/38 [==============================] - 70s 2s/step - loss: -0.8097 - binary_crossentropy: -0.2513 - dice_coef: 1.1367 - val_loss: -0.8401 - val_binary_crossentropy: -0.3227 - val_dice_coef: 1.1611\n",
      "Epoch 38/100\n",
      "37/38 [============================>.] - ETA: 1s - loss: -0.8115 - binary_crossentropy: -0.2611 - dice_coef: 1.1404\n",
      "Epoch 00038: val_loss improved from -0.84295 to -0.84446, saving model to ../data/elu_unet_val_0\n",
      "38/38 [==============================] - 68s 2s/step - loss: -0.8095 - binary_crossentropy: -0.2575 - dice_coef: 1.1386 - val_loss: -0.8445 - val_binary_crossentropy: -0.3229 - val_dice_coef: 1.1526\n",
      "Epoch 39/100\n",
      "37/38 [============================>.] - ETA: 1s - loss: -0.8164 - binary_crossentropy: -0.2504 - dice_coef: 1.1226\n",
      "Epoch 00039: val_loss did not improve\n",
      "38/38 [==============================] - 63s 2s/step - loss: -0.8178 - binary_crossentropy: -0.2499 - dice_coef: 1.1233 - val_loss: -0.8408 - val_binary_crossentropy: -0.3194 - val_dice_coef: 1.1572\n",
      "Epoch 40/100\n",
      "37/38 [============================>.] - ETA: 1s - loss: -0.8120 - binary_crossentropy: -0.2717 - dice_coef: 1.1330\n",
      "Epoch 00040: val_loss did not improve\n",
      "38/38 [==============================] - 63s 2s/step - loss: -0.8141 - binary_crossentropy: -0.2695 - dice_coef: 1.1335 - val_loss: -0.8403 - val_binary_crossentropy: -0.3193 - val_dice_coef: 1.1606\n",
      "Epoch 41/100\n",
      "37/38 [============================>.] - ETA: 1s - loss: -0.8246 - binary_crossentropy: -0.2977 - dice_coef: 1.1402\n",
      "Epoch 00041: val_loss did not improve\n",
      "38/38 [==============================] - 59s 2s/step - loss: -0.8242 - binary_crossentropy: -0.2930 - dice_coef: 1.1387 - val_loss: -0.8441 - val_binary_crossentropy: -0.3267 - val_dice_coef: 1.1560\n",
      "Epoch 42/100\n",
      "37/38 [============================>.] - ETA: 1s - loss: -0.8136 - binary_crossentropy: -0.2545 - dice_coef: 1.1394\n",
      "Epoch 00042: val_loss did not improve\n",
      "38/38 [==============================] - 61s 2s/step - loss: -0.8121 - binary_crossentropy: -0.2535 - dice_coef: 1.1417 - val_loss: -0.8367 - val_binary_crossentropy: -0.3098 - val_dice_coef: 1.1574\n",
      "Epoch 43/100\n",
      "37/38 [============================>.] - ETA: 1s - loss: -0.8188 - binary_crossentropy: -0.2694 - dice_coef: 1.1415\n",
      "Epoch 00043: val_loss improved from -0.84446 to -0.84543, saving model to ../data/elu_unet_val_0\n",
      "38/38 [==============================] - 62s 2s/step - loss: -0.8156 - binary_crossentropy: -0.2640 - dice_coef: 1.1385 - val_loss: -0.8454 - val_binary_crossentropy: -0.3291 - val_dice_coef: 1.1556\n"
     ]
    },
    {
     "name": "stdout",
     "output_type": "stream",
     "text": [
      "Epoch 44/100\n",
      "37/38 [============================>.] - ETA: 1s - loss: -0.8021 - binary_crossentropy: -0.2328 - dice_coef: 1.1232\n",
      "Epoch 00044: val_loss did not improve\n",
      "38/38 [==============================] - 70s 2s/step - loss: -0.7997 - binary_crossentropy: -0.2254 - dice_coef: 1.1180 - val_loss: -0.8336 - val_binary_crossentropy: -0.3065 - val_dice_coef: 1.1510\n",
      "Epoch 45/100\n",
      "37/38 [============================>.] - ETA: 1s - loss: -0.8145 - binary_crossentropy: -0.2552 - dice_coef: 1.1276\n",
      "Epoch 00045: val_loss did not improve\n",
      "38/38 [==============================] - 68s 2s/step - loss: -0.8137 - binary_crossentropy: -0.2532 - dice_coef: 1.1292 - val_loss: -0.8427 - val_binary_crossentropy: -0.3260 - val_dice_coef: 1.1634\n",
      "Epoch 46/100\n",
      "37/38 [============================>.] - ETA: 1s - loss: -0.8208 - binary_crossentropy: -0.2874 - dice_coef: 1.1521\n",
      "Epoch 00048: val_loss did not improve\n",
      "38/38 [==============================] - 58s 2s/step - loss: -0.8219 - binary_crossentropy: -0.2860 - dice_coef: 1.1507 - val_loss: -0.8404 - val_binary_crossentropy: -0.3214 - val_dice_coef: 1.1641\n",
      "Epoch 49/100\n",
      "37/38 [============================>.] - ETA: 1s - loss: -0.8196 - binary_crossentropy: -0.2589 - dice_coef: 1.1328\n",
      "Epoch 00049: val_loss improved from -0.84672 to -0.84690, saving model to ../data/elu_unet_val_0\n",
      "38/38 [==============================] - 64s 2s/step - loss: -0.8188 - binary_crossentropy: -0.2567 - dice_coef: 1.1500 - val_loss: -0.8469 - val_binary_crossentropy: -0.3347 - val_dice_coef: 1.1659\n",
      "Epoch 50/100\n",
      "37/38 [============================>.] - ETA: 1s - loss: -0.8114 - binary_crossentropy: -0.2509 - dice_coef: 1.1405\n",
      "Epoch 00050: val_loss did not improve\n",
      "38/38 [==============================] - 64s 2s/step - loss: -0.8114 - binary_crossentropy: -0.2516 - dice_coef: 1.1423 - val_loss: -0.8461 - val_binary_crossentropy: -0.3391 - val_dice_coef: 1.1696\n",
      "Epoch 51/100\n",
      "37/38 [============================>.] - ETA: 1s - loss: -0.8226 - binary_crossentropy: -0.2651 - dice_coef: 1.1312\n",
      "Epoch 00051: val_loss did not improve\n",
      "38/38 [==============================] - 73s 2s/step - loss: -0.8225 - binary_crossentropy: -0.2659 - dice_coef: 1.1366 - val_loss: -0.8340 - val_binary_crossentropy: -0.3027 - val_dice_coef: 1.1585\n",
      "Epoch 52/100\n",
      "37/38 [============================>.] - ETA: 1s - loss: -0.8115 - binary_crossentropy: -0.2487 - dice_coef: 1.1392\n",
      "Epoch 00052: val_loss did not improve\n",
      "38/38 [==============================] - 60s 2s/step - loss: -0.8112 - binary_crossentropy: -0.2497 - dice_coef: 1.1399 - val_loss: -0.8390 - val_binary_crossentropy: -0.3000 - val_dice_coef: 1.1508\n",
      "Epoch 53/100\n",
      "37/38 [============================>.] - ETA: 1s - loss: -0.8194 - binary_crossentropy: -0.2691 - dice_coef: 1.1537\n",
      "Epoch 00053: val_loss improved from -0.84690 to -0.84745, saving model to ../data/elu_unet_val_0\n",
      "38/38 [==============================] - 67s 2s/step - loss: -0.8187 - binary_crossentropy: -0.2638 - dice_coef: 1.1503 - val_loss: -0.8474 - val_binary_crossentropy: -0.3333 - val_dice_coef: 1.1657\n",
      "Epoch 54/100\n",
      "37/38 [============================>.] - ETA: 1s - loss: -0.8159 - binary_crossentropy: -0.2713 - dice_coef: 1.1386\n",
      "Epoch 00054: val_loss did not improve\n",
      "38/38 [==============================] - 64s 2s/step - loss: -0.8180 - binary_crossentropy: -0.2691 - dice_coef: 1.1387 - val_loss: -0.8426 - val_binary_crossentropy: -0.3255 - val_dice_coef: 1.1653\n",
      "Epoch 55/100\n",
      "37/38 [============================>.] - ETA: 1s - loss: -0.8269 - binary_crossentropy: -0.2774 - dice_coef: 1.1474\n",
      "Epoch 00055: val_loss did not improve\n",
      "38/38 [==============================] - 61s 2s/step - loss: -0.8274 - binary_crossentropy: -0.2786 - dice_coef: 1.1482 - val_loss: -0.8449 - val_binary_crossentropy: -0.3303 - val_dice_coef: 1.1540\n",
      "Epoch 56/100\n",
      "37/38 [============================>.] - ETA: 1s - loss: -0.8272 - binary_crossentropy: -0.2911 - dice_coef: 1.1478\n",
      "Epoch 00056: val_loss did not improve\n",
      "38/38 [==============================] - 65s 2s/step - loss: -0.8259 - binary_crossentropy: -0.2846 - dice_coef: 1.1446 - val_loss: -0.8468 - val_binary_crossentropy: -0.3385 - val_dice_coef: 1.1686\n",
      "Epoch 57/100\n",
      "37/38 [============================>.] - ETA: 1s - loss: -0.8185 - binary_crossentropy: -0.2620 - dice_coef: 1.1414\n",
      "Epoch 00057: val_loss did not improve\n",
      "38/38 [==============================] - 65s 2s/step - loss: -0.8176 - binary_crossentropy: -0.2617 - dice_coef: 1.1471 - val_loss: -0.8418 - val_binary_crossentropy: -0.3292 - val_dice_coef: 1.1669\n",
      "Epoch 58/100\n",
      "37/38 [============================>.] - ETA: 1s - loss: -0.8210 - binary_crossentropy: -0.2866 - dice_coef: 1.1454\n",
      "Epoch 00058: val_loss did not improve\n",
      "38/38 [==============================] - 63s 2s/step - loss: -0.8208 - binary_crossentropy: -0.2834 - dice_coef: 1.1454 - val_loss: -0.8440 - val_binary_crossentropy: -0.3235 - val_dice_coef: 1.1560\n",
      "Epoch 59/100\n",
      "37/38 [============================>.] - ETA: 1s - loss: -0.8041 - binary_crossentropy: -0.2226 - dice_coef: 1.1153\n",
      "Epoch 00059: val_loss did not improve\n",
      "38/38 [==============================] - 69s 2s/step - loss: -0.8056 - binary_crossentropy: -0.2239 - dice_coef: 1.1167 - val_loss: -0.8420 - val_binary_crossentropy: -0.3135 - val_dice_coef: 1.1590\n",
      "Epoch 60/100\n",
      "37/38 [============================>.] - ETA: 1s - loss: -0.8133 - binary_crossentropy: -0.2611 - dice_coef: 1.1326\n",
      "Epoch 00060: val_loss did not improve\n",
      "38/38 [==============================] - 65s 2s/step - loss: -0.8126 - binary_crossentropy: -0.2569 - dice_coef: 1.1346 - val_loss: -0.8404 - val_binary_crossentropy: -0.3223 - val_dice_coef: 1.1652\n",
      "Epoch 61/100\n",
      "37/38 [============================>.] - ETA: 1s - loss: -0.8314 - binary_crossentropy: -0.2813 - dice_coef: 1.1521\n",
      "Epoch 00061: val_loss improved from -0.84745 to -0.84776, saving model to ../data/elu_unet_val_0\n",
      "38/38 [==============================] - 71s 2s/step - loss: -0.8308 - binary_crossentropy: -0.2770 - dice_coef: 1.1514 - val_loss: -0.8478 - val_binary_crossentropy: -0.3310 - val_dice_coef: 1.1634\n",
      "Epoch 62/100\n",
      "37/38 [============================>.] - ETA: 1s - loss: -0.8243 - binary_crossentropy: -0.2727 - dice_coef: 1.1543\n",
      "Epoch 00062: val_loss improved from -0.84776 to -0.84998, saving model to ../data/elu_unet_val_0\n",
      "38/38 [==============================] - 68s 2s/step - loss: -0.8246 - binary_crossentropy: -0.2704 - dice_coef: 1.1520 - val_loss: -0.8500 - val_binary_crossentropy: -0.3376 - val_dice_coef: 1.1647\n",
      "Epoch 63/100\n",
      "37/38 [============================>.] - ETA: 1s - loss: -0.8137 - binary_crossentropy: -0.2680 - dice_coef: 1.1474\n",
      "Epoch 00063: val_loss did not improve\n",
      "38/38 [==============================] - 63s 2s/step - loss: -0.8135 - binary_crossentropy: -0.2675 - dice_coef: 1.1486 - val_loss: -0.8449 - val_binary_crossentropy: -0.3337 - val_dice_coef: 1.1698\n",
      "Epoch 64/100\n",
      "37/38 [============================>.] - ETA: 1s - loss: -0.8261 - binary_crossentropy: -0.2931 - dice_coef: 1.1466\n",
      "Epoch 00064: val_loss did not improve\n",
      "38/38 [==============================] - 65s 2s/step - loss: -0.8279 - binary_crossentropy: -0.2921 - dice_coef: 1.1491 - val_loss: -0.8435 - val_binary_crossentropy: -0.3252 - val_dice_coef: 1.1637\n",
      "Epoch 65/100\n",
      "37/38 [============================>.] - ETA: 1s - loss: -0.8187 - binary_crossentropy: -0.2747 - dice_coef: 1.1358\n",
      "Epoch 00065: val_loss did not improve\n",
      "38/38 [==============================] - 67s 2s/step - loss: -0.8183 - binary_crossentropy: -0.2740 - dice_coef: 1.1354 - val_loss: -0.8423 - val_binary_crossentropy: -0.3269 - val_dice_coef: 1.1684\n",
      "Epoch 66/100\n",
      "37/38 [============================>.] - ETA: 1s - loss: -0.8228 - binary_crossentropy: -0.2782 - dice_coef: 1.1483\n",
      "Epoch 00066: val_loss did not improve\n",
      "38/38 [==============================] - 61s 2s/step - loss: -0.8222 - binary_crossentropy: -0.2789 - dice_coef: 1.1535 - val_loss: -0.8458 - val_binary_crossentropy: -0.3339 - val_dice_coef: 1.1678\n",
      "Epoch 67/100\n",
      "37/38 [============================>.] - ETA: 1s - loss: -0.8184 - binary_crossentropy: -0.2776 - dice_coef: 1.1621\n",
      "Epoch 00067: val_loss did not improve\n",
      "38/38 [==============================] - 61s 2s/step - loss: -0.8194 - binary_crossentropy: -0.2752 - dice_coef: 1.1609 - val_loss: -0.8447 - val_binary_crossentropy: -0.3230 - val_dice_coef: 1.1600\n"
     ]
    },
    {
     "name": "stdout",
     "output_type": "stream",
     "text": [
      "Epoch 68/100\n",
      "37/38 [============================>.] - ETA: 1s - loss: -0.8235 - binary_crossentropy: -0.2796 - dice_coef: 1.1463\n",
      "Epoch 00068: val_loss did not improve\n",
      "38/38 [==============================] - 63s 2s/step - loss: -0.8233 - binary_crossentropy: -0.2770 - dice_coef: 1.1444 - val_loss: -0.8423 - val_binary_crossentropy: -0.3099 - val_dice_coef: 1.1562\n",
      "Epoch 69/100\n",
      "37/38 [============================>.] - ETA: 1s - loss: -0.8212 - binary_crossentropy: -0.2881 - dice_coef: 1.1518\n",
      "Epoch 00069: val_loss did not improve\n",
      "38/38 [==============================] - 61s 2s/step - loss: -0.8220 - binary_crossentropy: -0.2866 - dice_coef: 1.1509 - val_loss: -0.8380 - val_binary_crossentropy: -0.3165 - val_dice_coef: 1.1650\n",
      "Epoch 70/100\n",
      "37/38 [============================>.] - ETA: 1s - loss: -0.8156 - binary_crossentropy: -0.2649 - dice_coef: 1.1476\n",
      "Epoch 00070: val_loss did not improve\n",
      "38/38 [==============================] - 64s 2s/step - loss: -0.8165 - binary_crossentropy: -0.2621 - dice_coef: 1.1467 - val_loss: -0.8412 - val_binary_crossentropy: -0.3206 - val_dice_coef: 1.1666\n",
      "Epoch 71/100\n",
      "37/38 [============================>.] - ETA: 1s - loss: -0.7992 - binary_crossentropy: -0.2129 - dice_coef: 1.1161\n",
      "Epoch 00071: val_loss did not improve\n",
      "38/38 [==============================] - 72s 2s/step - loss: -0.8019 - binary_crossentropy: -0.2123 - dice_coef: 1.1180 - val_loss: -0.8114 - val_binary_crossentropy: -0.2415 - val_dice_coef: 1.1426\n",
      "Epoch 72/100\n",
      "37/38 [============================>.] - ETA: 1s - loss: -0.8022 - binary_crossentropy: -0.2224 - dice_coef: 1.1221\n",
      "Epoch 00072: val_loss did not improve\n",
      "38/38 [==============================] - 69s 2s/step - loss: -0.8033 - binary_crossentropy: -0.2220 - dice_coef: 1.1214 - val_loss: -0.8234 - val_binary_crossentropy: -0.2677 - val_dice_coef: 1.1463\n",
      "Epoch 73/100\n",
      "37/38 [============================>.] - ETA: 1s - loss: -0.8216 - binary_crossentropy: -0.2682 - dice_coef: 1.1395\n",
      "Epoch 00073: val_loss did not improve\n",
      "38/38 [==============================] - 68s 2s/step - loss: -0.8225 - binary_crossentropy: -0.2654 - dice_coef: 1.1411 - val_loss: -0.8466 - val_binary_crossentropy: -0.3287 - val_dice_coef: 1.1688\n",
      "Epoch 74/100\n",
      "37/38 [============================>.] - ETA: 1s - loss: -0.8233 - binary_crossentropy: -0.2656 - dice_coef: 1.1367\n",
      "Epoch 00074: val_loss did not improve\n",
      "38/38 [==============================] - 64s 2s/step - loss: -0.8212 - binary_crossentropy: -0.2625 - dice_coef: 1.1367 - val_loss: -0.8463 - val_binary_crossentropy: -0.3293 - val_dice_coef: 1.1645\n",
      "Epoch 75/100\n",
      "37/38 [============================>.] - ETA: 1s - loss: -0.8230 - binary_crossentropy: -0.2662 - dice_coef: 1.1404\n",
      "Epoch 00075: val_loss did not improve\n",
      "38/38 [==============================] - 70s 2s/step - loss: -0.8234 - binary_crossentropy: -0.2648 - dice_coef: 1.1416 - val_loss: -0.8450 - val_binary_crossentropy: -0.3210 - val_dice_coef: 1.1620\n",
      "Epoch 76/100\n",
      "37/38 [============================>.] - ETA: 1s - loss: -0.8257 - binary_crossentropy: -0.2680 - dice_coef: 1.1249\n",
      "Epoch 00076: val_loss did not improve\n",
      "38/38 [==============================] - 62s 2s/step - loss: -0.8253 - binary_crossentropy: -0.2654 - dice_coef: 1.1238 - val_loss: -0.8433 - val_binary_crossentropy: -0.3207 - val_dice_coef: 1.1657\n",
      "Epoch 77/100\n",
      "37/38 [============================>.] - ETA: 1s - loss: -0.8260 - binary_crossentropy: -0.2889 - dice_coef: 1.1509\n",
      "Epoch 00077: val_loss did not improve\n",
      "38/38 [==============================] - 58s 2s/step - loss: -0.8267 - binary_crossentropy: -0.2883 - dice_coef: 1.1528 - val_loss: -0.8469 - val_binary_crossentropy: -0.3334 - val_dice_coef: 1.1693\n",
      "Epoch 78/100\n",
      "37/38 [============================>.] - ETA: 1s - loss: -0.8220 - binary_crossentropy: -0.2800 - dice_coef: 1.1533\n",
      "Epoch 00078: val_loss did not improve\n",
      "38/38 [==============================] - 67s 2s/step - loss: -0.8242 - binary_crossentropy: -0.2782 - dice_coef: 1.1540 - val_loss: -0.8474 - val_binary_crossentropy: -0.3343 - val_dice_coef: 1.1688\n",
      "Epoch 79/100\n",
      "37/38 [============================>.] - ETA: 1s - loss: -0.8233 - binary_crossentropy: -0.2994 - dice_coef: 1.1440\n",
      "Epoch 00079: val_loss did not improve\n",
      "38/38 [==============================] - 62s 2s/step - loss: -0.8240 - binary_crossentropy: -0.2971 - dice_coef: 1.1426 - val_loss: -0.8475 - val_binary_crossentropy: -0.3299 - val_dice_coef: 1.1602\n",
      "Epoch 80/100\n",
      "37/38 [============================>.] - ETA: 1s - loss: -0.8224 - binary_crossentropy: -0.2819 - dice_coef: 1.1487\n",
      "Epoch 00080: val_loss did not improve\n",
      "38/38 [==============================] - 57s 1s/step - loss: -0.8234 - binary_crossentropy: -0.2741 - dice_coef: 1.1444 - val_loss: -0.8399 - val_binary_crossentropy: -0.3097 - val_dice_coef: 1.1603\n",
      "Epoch 81/100\n",
      "37/38 [============================>.] - ETA: 1s - loss: -0.8277 - binary_crossentropy: -0.2868 - dice_coef: 1.1588\n",
      "Epoch 00081: val_loss did not improve\n",
      "38/38 [==============================] - 71s 2s/step - loss: -0.8272 - binary_crossentropy: -0.2859 - dice_coef: 1.1591 - val_loss: -0.8422 - val_binary_crossentropy: -0.3194 - val_dice_coef: 1.1648\n",
      "Epoch 82/100\n",
      "37/38 [============================>.] - ETA: 1s - loss: -0.8133 - binary_crossentropy: -0.2644 - dice_coef: 1.1385\n",
      "Epoch 00082: val_loss did not improve\n",
      "38/38 [==============================] - 59s 2s/step - loss: -0.8146 - binary_crossentropy: -0.2593 - dice_coef: 1.1358 - val_loss: -0.8389 - val_binary_crossentropy: -0.3095 - val_dice_coef: 1.1595\n",
      "Epoch 83/100\n",
      "37/38 [============================>.] - ETA: 1s - loss: -0.8102 - binary_crossentropy: -0.2432 - dice_coef: 1.1485\n",
      "Epoch 00083: val_loss did not improve\n",
      "38/38 [==============================] - 64s 2s/step - loss: -0.8124 - binary_crossentropy: -0.2420 - dice_coef: 1.1520 - val_loss: -0.8395 - val_binary_crossentropy: -0.2862 - val_dice_coef: 1.1391\n",
      "Epoch 84/100\n",
      "37/38 [============================>.] - ETA: 1s - loss: -0.8159 - binary_crossentropy: -0.2526 - dice_coef: 1.1281\n",
      "Epoch 00084: val_loss did not improve\n",
      "38/38 [==============================] - 61s 2s/step - loss: -0.8166 - binary_crossentropy: -0.2494 - dice_coef: 1.1273 - val_loss: -0.8434 - val_binary_crossentropy: -0.3235 - val_dice_coef: 1.1681\n",
      "Epoch 85/100\n",
      "37/38 [============================>.] - ETA: 1s - loss: -0.8236 - binary_crossentropy: -0.2839 - dice_coef: 1.1464\n",
      "Epoch 00085: val_loss did not improve\n",
      "38/38 [==============================] - 65s 2s/step - loss: -0.8240 - binary_crossentropy: -0.2795 - dice_coef: 1.1446 - val_loss: -0.8446 - val_binary_crossentropy: -0.3131 - val_dice_coef: 1.1554\n",
      "Epoch 86/100\n",
      "37/38 [============================>.] - ETA: 1s - loss: -0.8058 - binary_crossentropy: -0.2322 - dice_coef: 1.1379\n",
      "Epoch 00086: val_loss did not improve\n",
      "38/38 [==============================] - 60s 2s/step - loss: -0.8076 - binary_crossentropy: -0.2323 - dice_coef: 1.1379 - val_loss: -0.8245 - val_binary_crossentropy: -0.2683 - val_dice_coef: 1.1499\n",
      "Epoch 87/100\n",
      "37/38 [============================>.] - ETA: 1s - loss: -0.8086 - binary_crossentropy: -0.2376 - dice_coef: 1.1261\n",
      "Epoch 00087: val_loss did not improve\n",
      "38/38 [==============================] - 62s 2s/step - loss: -0.8096 - binary_crossentropy: -0.2384 - dice_coef: 1.1340 - val_loss: -0.8406 - val_binary_crossentropy: -0.3130 - val_dice_coef: 1.1638\n",
      "Epoch 88/100\n",
      "37/38 [============================>.] - ETA: 1s - loss: -0.8190 - binary_crossentropy: -0.2604 - dice_coef: 1.1310\n",
      "Epoch 00088: val_loss did not improve\n",
      "38/38 [==============================] - 61s 2s/step - loss: -0.8183 - binary_crossentropy: -0.2561 - dice_coef: 1.1311 - val_loss: -0.8428 - val_binary_crossentropy: -0.3191 - val_dice_coef: 1.1613\n",
      "Epoch 89/100\n",
      "37/38 [============================>.] - ETA: 1s - loss: -0.8208 - binary_crossentropy: -0.2801 - dice_coef: 1.1526\n",
      "Epoch 00089: val_loss did not improve\n",
      "38/38 [==============================] - 60s 2s/step - loss: -0.8207 - binary_crossentropy: -0.2772 - dice_coef: 1.1505 - val_loss: -0.8442 - val_binary_crossentropy: -0.3272 - val_dice_coef: 1.1674\n",
      "Epoch 90/100\n",
      "37/38 [============================>.] - ETA: 1s - loss: -0.8168 - binary_crossentropy: -0.2578 - dice_coef: 1.1399\n",
      "Epoch 00090: val_loss did not improve\n",
      "38/38 [==============================] - 67s 2s/step - loss: -0.8182 - binary_crossentropy: -0.2582 - dice_coef: 1.1393 - val_loss: -0.8422 - val_binary_crossentropy: -0.3210 - val_dice_coef: 1.1685\n"
     ]
    },
    {
     "name": "stdout",
     "output_type": "stream",
     "text": [
      "Epoch 91/100\n",
      "37/38 [============================>.] - ETA: 1s - loss: -0.8312 - binary_crossentropy: -0.2758 - dice_coef: 1.1431\n",
      "Epoch 00091: val_loss did not improve\n",
      "38/38 [==============================] - 65s 2s/step - loss: -0.8317 - binary_crossentropy: -0.2737 - dice_coef: 1.1413 - val_loss: -0.8451 - val_binary_crossentropy: -0.3278 - val_dice_coef: 1.1688\n",
      "Epoch 92/100\n",
      "37/38 [============================>.] - ETA: 1s - loss: -0.8268 - binary_crossentropy: -0.2798 - dice_coef: 1.1376\n",
      "Epoch 00092: val_loss did not improve\n",
      "38/38 [==============================] - 67s 2s/step - loss: -0.8256 - binary_crossentropy: -0.2757 - dice_coef: 1.1354 - val_loss: -0.8427 - val_binary_crossentropy: -0.3258 - val_dice_coef: 1.1609\n",
      "Epoch 93/100\n",
      "37/38 [============================>.] - ETA: 1s - loss: -0.8276 - binary_crossentropy: -0.2732 - dice_coef: 1.1432\n",
      "Epoch 00093: val_loss improved from -0.84998 to -0.85075, saving model to ../data/elu_unet_val_0\n",
      "38/38 [==============================] - 61s 2s/step - loss: -0.8289 - binary_crossentropy: -0.2734 - dice_coef: 1.1429 - val_loss: -0.8507 - val_binary_crossentropy: -0.3413 - val_dice_coef: 1.1676\n",
      "Epoch 94/100\n",
      "37/38 [============================>.] - ETA: 1s - loss: -0.8253 - binary_crossentropy: -0.2871 - dice_coef: 1.1461\n",
      "Epoch 00094: val_loss did not improve\n",
      "38/38 [==============================] - 69s 2s/step - loss: -0.8255 - binary_crossentropy: -0.2870 - dice_coef: 1.1460 - val_loss: -0.8482 - val_binary_crossentropy: -0.3376 - val_dice_coef: 1.1665\n",
      "Epoch 95/100\n",
      "37/38 [============================>.] - ETA: 1s - loss: -0.8273 - binary_crossentropy: -0.2960 - dice_coef: 1.1554\n",
      "Epoch 00095: val_loss did not improve\n",
      "38/38 [==============================] - 66s 2s/step - loss: -0.8274 - binary_crossentropy: -0.2913 - dice_coef: 1.1547 - val_loss: -0.8499 - val_binary_crossentropy: -0.3396 - val_dice_coef: 1.1671\n",
      "Epoch 96/100\n",
      "37/38 [============================>.] - ETA: 1s - loss: -0.8333 - binary_crossentropy: -0.2788 - dice_coef: 1.1522\n",
      "Epoch 00096: val_loss did not improve\n",
      "38/38 [==============================] - 64s 2s/step - loss: -0.8337 - binary_crossentropy: -0.2773 - dice_coef: 1.1514 - val_loss: -0.8463 - val_binary_crossentropy: -0.3274 - val_dice_coef: 1.1560\n",
      "Epoch 97/100\n",
      "37/38 [============================>.] - ETA: 1s - loss: -0.8270 - binary_crossentropy: -0.2779 - dice_coef: 1.1414\n",
      "Epoch 00097: val_loss did not improve\n",
      "38/38 [==============================] - 71s 2s/step - loss: -0.8262 - binary_crossentropy: -0.2741 - dice_coef: 1.1422 - val_loss: -0.8433 - val_binary_crossentropy: -0.3259 - val_dice_coef: 1.1694\n",
      "Epoch 98/100\n",
      "37/38 [============================>.] - ETA: 1s - loss: -0.8263 - binary_crossentropy: -0.2694 - dice_coef: 1.1439\n",
      "Epoch 00098: val_loss did not improve\n",
      "38/38 [==============================] - 62s 2s/step - loss: -0.8270 - binary_crossentropy: -0.2666 - dice_coef: 1.1451 - val_loss: -0.8480 - val_binary_crossentropy: -0.3351 - val_dice_coef: 1.1666\n",
      "Epoch 99/100\n",
      "37/38 [============================>.] - ETA: 1s - loss: -0.8361 - binary_crossentropy: -0.2970 - dice_coef: 1.1517\n",
      "Epoch 00099: val_loss did not improve\n",
      "38/38 [==============================] - 67s 2s/step - loss: -0.8349 - binary_crossentropy: -0.2939 - dice_coef: 1.1511 - val_loss: -0.8445 - val_binary_crossentropy: -0.3272 - val_dice_coef: 1.1618\n",
      "Epoch 100/100\n",
      "37/38 [============================>.] - ETA: 1s - loss: -0.8313 - binary_crossentropy: -0.2859 - dice_coef: 1.1610\n",
      "Epoch 00100: val_loss did not improve\n",
      "38/38 [==============================] - 63s 2s/step - loss: -0.8319 - binary_crossentropy: -0.2830 - dice_coef: 1.1596 - val_loss: -0.8478 - val_binary_crossentropy: -0.3358 - val_dice_coef: 1.1611\n"
     ]
    }
   ],
   "source": [
    "import sys\n",
    "sys.path.append('..')\n",
    "from models import UNet\n",
    "from models import elu_UNet\n",
    "\n",
    "from keras.callbacks import TensorBoard, ModelCheckpoint\n",
    "from keras.optimizers import sgd\n",
    "\n",
    "\n",
    "inter = len(paths) - int(SPLIT * len(paths))\n",
    "for i in range(9):\n",
    "    train_paths = paths[:i * inter] + paths[(i + 1) * inter:]\n",
    "    val_paths = paths[i * inter: (i + 1) * inter]\n",
    "\n",
    "    test_paths = [path[0] for path in test_std_paths]\n",
    "\n",
    "    callbacks = [\n",
    "        TensorBoard(log_dir='../data/logs'),\n",
    "        ModelCheckpoint(\n",
    "            verbose=True,\n",
    "            filepath='../data/elu_unet_val_' + str(i),\n",
    "            save_best_only=True\n",
    "        )\n",
    "    ]\n",
    "\n",
    "    train_gen = generator(train_paths, preprocess, batch_size=BATCH_SIZE, train_mode=True)\n",
    "    val_gen = generator(val_paths, preprocess_val, batch_size=BATCH_SIZE, train_mode=False)\n",
    "\n",
    "    model = elu_UNet.get_unet(SIDE, SIDE, optimizer='adam', #sgd(nesterov=True, momentum=.9, decay=1e-5)\n",
    "                              loss=dice_coef_loss, metrics=['binary_crossentropy', UNet.dice_coef])\n",
    "    model.fit_generator(\n",
    "        generator=train_gen,\n",
    "        steps_per_epoch=max(len(train_paths) // BATCH_SIZE + 1, 10), \n",
    "        epochs=100, \n",
    "        callbacks=callbacks, \n",
    "        validation_data=val_gen, \n",
    "        validation_steps=len(val_paths) // BATCH_SIZE + 1, \n",
    "    )\n",
    "    break"
   ]
  },
  {
   "cell_type": "code",
   "execution_count": 402,
   "metadata": {},
   "outputs": [],
   "source": [
    "from itertools import product\n",
    "\n",
    "\n",
    "def preprocess_test(patch):\n",
    "    patch = scipy.ndimage.zoom(\n",
    "        patch, \n",
    "        (\n",
    "            max(patch.shape[0], SIDE) / patch.shape[0], \n",
    "            max(patch.shape[1], SIDE) / patch.shape[1]\n",
    "        )\n",
    "    )\n",
    "    shape = patch.shape\n",
    "    patch = np.concatenate([np.flip(patch, 0), patch, np.flip(patch, 0)])\n",
    "    patch = np.concatenate([np.flip(patch, 1), patch, np.flip(patch, 1)], 1)\n",
    "    \n",
    "    points = [i for i in range(0, shape[0] + STEP, STEP)]\n",
    "    points = product(points, [i for i in range(0, shape[1] + STEP, STEP)])\n",
    "    points = np.array(list(points)) - SIDE // 2 + np.array(shape)\n",
    "    \n",
    "    patches = list()\n",
    "    for point in points:\n",
    "        patches.append((patch[\n",
    "            point[0]: point[0] + SIDE,\n",
    "            point[1]: point[1] + SIDE,\n",
    "        ] / 255., point + SIDE // 2 - np.array(shape), shape))\n",
    "    return patches\n",
    "\n",
    "\n",
    "def generator_test(paths, batch_size=BATCH_SIZE, train_mode=False):\n",
    "    while True:\n",
    "        if train_mode:\n",
    "            np.random.shuffle(paths)\n",
    "            \n",
    "        for i in range(len(paths) // batch_size + 1):\n",
    "            batch = paths[i * batch_size: (i + 1) * batch_size]\n",
    "            processed = list()\n",
    "            for j, path in enumerate(batch):\n",
    "                im = load(path, test_mode=True)\n",
    "                processed += (preprocess_test(im), path)\n",
    "\n",
    "            yield processed"
   ]
  },
  {
   "cell_type": "code",
   "execution_count": 278,
   "metadata": {
    "scrolled": false
   },
   "outputs": [
    {
     "name": "stderr",
     "output_type": "stream",
     "text": [
      "100%|██████████| 65/65 [00:37<00:00,  1.73it/s]\n"
     ]
    }
   ],
   "source": [
    "test_gen = generator_test(test_paths, batch_size=1, train_mode=False)\n",
    "test = [next(test_gen) for i in range(len(test_paths))]\n",
    "# test = np.concatenate(test, 0)\n",
    "# test = test[:len(test_paths)]\n",
    "preds = list()\n",
    "paths = list()\n",
    "for i, (el, path) in enumerate(tqdm(test)):\n",
    "    pred = np.zeros(np.array(el[0][2]) + SIDE)\n",
    "#     img = np.zeros(np.array(el[0][2]) + SIDE)\n",
    "    \n",
    "    batch = np.array([np.expand_dims(patch[0], -1) for patch in el])\n",
    "    points = np.array([patch[1] for patch in el])\n",
    "\n",
    "    p = model.predict(batch)\n",
    "    p1 = model.predict(np.flip(batch, 1))\n",
    "    p2 = model.predict(np.flip(batch, 2))\n",
    "    p3 = model.predict(np.flip(np.flip(batch, 1), 2))\n",
    "\n",
    "    pred_ = np.mean(\n",
    "        np.stack([\n",
    "            p, \n",
    "            np.flip(p1, 1), \n",
    "            np.flip(p2, 2), \n",
    "            np.flip(np.flip(p3, 1), 2)\n",
    "        ], -1), \n",
    "        -1\n",
    "    )\n",
    "    for point, p in zip(points, pred_):\n",
    "        pred[\n",
    "            point[0] + SIDE // 2 - STEP: point[0] + SIDE // 2 + STEP,\n",
    "            point[1] + SIDE // 2 - STEP: point[1] + SIDE // 2 + STEP\n",
    "        ] = p[\n",
    "            SIDE // 2 - STEP: SIDE // 2 + STEP,\n",
    "            SIDE // 2 - STEP: SIDE // 2 + STEP, \n",
    "            0\n",
    "        ]\n",
    "\n",
    "#     for point, p in zip(points, batch):\n",
    "#         img[\n",
    "#             point[0] + SIDE // 2 - STEP: point[0] + SIDE // 2 + STEP,\n",
    "#             point[1] + SIDE // 2 - STEP: point[1] + SIDE // 2 + STEP\n",
    "#         ] = p[\n",
    "#             SIDE // 2 - STEP: SIDE // 2 + STEP,\n",
    "#             SIDE // 2 - STEP: SIDE // 2 + STEP, \n",
    "#             0\n",
    "#         ]\n",
    "\n",
    "    preds.append(pred[SIDE // 2: -SIDE // 2, SIDE // 2: -SIDE // 2])\n",
    "    paths.append(path)\n",
    "# Create list of upsampled test masks\n",
    "preds_test_upsampled = list()\n",
    "for i in range(len(preds)):\n",
    "    preds_test_upsampled.append(\n",
    "        np.squeeze(preds[i])\n",
    "    )\n",
    "\n",
    "mismatches = [\n",
    "    (i, np.array(preds_test_upsampled[i].shape), sizes_test[paths[i]]) \n",
    "    for i in range(len(paths)) \n",
    "    if not all(np.array(preds_test_upsampled[i].shape) == sizes_test[paths[i]])\n",
    "]\n",
    "print(mismatches)\n",
    "for i, old, new in mismatches:\n",
    "    preds_test_upsampled[i] = skimage.transform.resize(preds_test_upsampled[i], \n",
    "                                       sizes_test[paths[i]],\n",
    "                                       mode='constant', preserve_range=True)"
   ]
  },
  {
   "cell_type": "code",
   "execution_count": 279,
   "metadata": {},
   "outputs": [
    {
     "data": {
      "text/plain": [
       "<matplotlib.image.AxesImage at 0x7fb01a3063c8>"
      ]
     },
     "execution_count": 279,
     "metadata": {},
     "output_type": "execute_result"
    },
    {
     "data": {
      "image/png": "[encoded data removed]",
      "text/plain": [
       "<matplotlib.figure.Figure at 0x7fb01a4176d8>"
      ]
     },
     "metadata": {},
     "output_type": "display_data"
    }
   ],
   "source": [
    "plt.imshow(img[SIDE // 2: -SIDE // 2, SIDE // 2: -SIDE // 2])"
   ]
  },
  {
   "cell_type": "code",
   "execution_count": 280,
   "metadata": {},
   "outputs": [
    {
     "data": {
      "text/plain": [
       "<matplotlib.image.AxesImage at 0x7fb01a328390>"
      ]
     },
     "execution_count": 280,
     "metadata": {},
     "output_type": "execute_result"
    },
    {
     "data": {
      "image/png": "[encoded data removed]",
      "text/plain": [
       "<matplotlib.figure.Figure at 0x7fb01a41b160>"
      ]
     },
     "metadata": {},
     "output_type": "display_data"
    }
   ],
   "source": [
    "plt.imshow(pred[SIDE // 2: -SIDE // 2, SIDE // 2: -SIDE // 2] > .5)"
   ]
  },
  {
   "cell_type": "code",
   "execution_count": 417,
   "metadata": {},
   "outputs": [],
   "source": [
    "def preprocess_test(patch):\n",
    "    return scipy.ndimage.zoom(patch, (SIDE / patch.shape[0], SIDE / patch.shape[1]))\n",
    "\n",
    "\n",
    "def generator_test(paths, batch_size=BATCH_SIZE, train_mode=False):\n",
    "    while True:\n",
    "        if train_mode:\n",
    "            np.random.shuffle(paths)\n",
    "            \n",
    "        for i in range(len(paths) // batch_size + 1):\n",
    "            batch = paths[i * batch_size: (i + 1) * batch_size]\n",
    "#             with Pool(4) as pool:\n",
    "#                 processed = pool.map(load, batch)\n",
    "            processed = np.zeros((batch_size, SIDE, SIDE))\n",
    "            for j, path in enumerate(batch):\n",
    "                im = load(path, test_mode=True)\n",
    "                processed[j] = preprocess_test(im)\n",
    "\n",
    "            yield np.expand_dims(processed, -1) / 255."
   ]
  },
  {
   "cell_type": "code",
   "execution_count": 404,
   "metadata": {},
   "outputs": [],
   "source": [
    "test_gen = generator_test(test_paths, batch_size=1, train_mode=False)\n",
    "test = [next(test_gen) for i in range(len(test_paths))]\n",
    "test = np.concatenate(test, 0)\n",
    "test = test[:len(test_paths)]"
   ]
  },
  {
   "cell_type": "code",
   "execution_count": 405,
   "metadata": {},
   "outputs": [
    {
     "name": "stderr",
     "output_type": "stream",
     "text": [
      "100%|██████████| 1/1 [00:01<00:00,  1.67s/it]\n"
     ]
    }
   ],
   "source": [
    "predicts = list()\n",
    "for name in tqdm(['unet_model_type_2']):\n",
    "#     model.load_weights(os.path.join('..', 'data', name))\n",
    "    p = model.predict(test)\n",
    "    p1 = model.predict(np.flip(test, 1))\n",
    "    p2 = model.predict(np.flip(test, 2))\n",
    "    p3 = model.predict(np.flip(np.flip(test, 1), 2))\n",
    "\n",
    "    predicts.append(\n",
    "        np.mean(\n",
    "            np.stack([\n",
    "                p, \n",
    "                np.flip(p1, 1), \n",
    "                np.flip(p2, 2), \n",
    "                np.flip(np.flip(p3, 1), 2)\n",
    "            ], -1), \n",
    "            -1\n",
    "        )\n",
    "    )\n",
    "\n",
    "pred = np.array(predicts).mean(0)"
   ]
  },
  {
   "cell_type": "code",
   "execution_count": 406,
   "metadata": {},
   "outputs": [],
   "source": [
    "preds_test_t = (pred > 0.5).astype(np.uint8)\n",
    "\n",
    "# Create list of upsampled test masks\n",
    "preds_test_upsampled = list()\n",
    "for i in range(len(pred)):\n",
    "    preds_test_upsampled.append(skimage.transform.resize(np.squeeze(pred[i]), \n",
    "                                       sizes_test[test_paths[i]],\n",
    "                                       mode='constant', preserve_range=True))"
   ]
  },
  {
   "cell_type": "code",
   "execution_count": 407,
   "metadata": {},
   "outputs": [
    {
     "data": {
      "text/plain": [
       "<matplotlib.image.AxesImage at 0x7fae5a892eb8>"
      ]
     },
     "execution_count": 407,
     "metadata": {},
     "output_type": "execute_result"
    },
    {
     "data": {
      "image/png": "[encoded data removed]",
      "text/plain": [
       "<matplotlib.figure.Figure at 0x7fae4cadfe48>"
      ]
     },
     "metadata": {},
     "output_type": "display_data"
    }
   ],
   "source": [
    "plt.imshow(img)"
   ]
  },
  {
   "cell_type": "code",
   "execution_count": 416,
   "metadata": {},
   "outputs": [
    {
     "data": {
      "text/plain": [
       "<matplotlib.image.AxesImage at 0x7fae4cab7780>"
      ]
     },
     "execution_count": 416,
     "metadata": {},
     "output_type": "execute_result"
    },
    {
     "data": {
      "image/png": "[encoded data removed]",
      "text/plain": [
       "<matplotlib.figure.Figure at 0x7fae4cab72b0>"
      ]
     },
     "metadata": {},
     "output_type": "display_data"
    }
   ],
   "source": [
    "i = 3\n",
    "plt.imshow(img)\n",
    "plt.imshow(preds_test_upsampled[i] > .5)"
   ]
  },
  {
   "cell_type": "code",
   "execution_count": 418,
   "metadata": {},
   "outputs": [],
   "source": [
    "# Run-length encoding stolen from https://www.kaggle.com/rakhlin/fast-run-length-encoding-python\n",
    "def rle_encoding(x):\n",
    "    dots = np.where(x.T.flatten() == 1)[0]\n",
    "    run_lengths = []\n",
    "    prev = -2\n",
    "    for b in dots:\n",
    "        if (b > prev + 1): run_lengths.extend((b + 1, 0))\n",
    "        run_lengths[-1] += 1\n",
    "        prev = b\n",
    "    return run_lengths\n",
    "\n",
    "def prob_to_rles(x, cutoff=.5):\n",
    "    lab_img = label(x > cutoff)\n",
    "#     lab_img_dilated2 = label(scipy.ndimage.binary_dilation(x > cutoff, iterations=2))\n",
    "#     lab_img_dilated1 = label(scipy.ndimage.binary_dilation(x > cutoff, iterations=1))\n",
    "    for colour in range(1, lab_img.max() + 1):\n",
    "#         inter = lab_img[lab_img_dilated2 == lab_img_dilated2[lab_img == colour][0]]\n",
    "#         inter = inter[inter != 0]\n",
    "#         if len(np.unique(inter)) == 1:\n",
    "#             yield rle_encoding(scipy.ndimage.binary_dilation(lab_img == colour, iterations=2))\n",
    "#             continue\n",
    "#         inter = lab_img[lab_img_dilated1 == lab_img_dilated1[lab_img == colour][0]]\n",
    "#         inter = inter[inter != 0]\n",
    "#         if len(np.unique(inter)) == 1:\n",
    "#             yield rle_encoding(scipy.ndimage.binary_dilation(lab_img == colour, iterations=1))\n",
    "#             continue\n",
    "        yield rle_encoding(lab_img == colour)"
   ]
  },
  {
   "cell_type": "code",
   "execution_count": 419,
   "metadata": {},
   "outputs": [
    {
     "name": "stderr",
     "output_type": "stream",
     "text": [
      "65it [00:01, 48.00it/s]\n"
     ]
    }
   ],
   "source": [
    "new_test_ids = []\n",
    "rles = []\n",
    "for n, path in tqdm(enumerate(test_paths)):\n",
    "    rle = list(prob_to_rles(preds_test_upsampled[n]))\n",
    "    rles.extend(rle)\n",
    "    new_test_ids.extend([os.path.basename(path)] * len(rle))\n"
   ]
  },
  {
   "cell_type": "code",
   "execution_count": 420,
   "metadata": {},
   "outputs": [],
   "source": [
    "# Create submission DataFrame\n",
    "sub = pd.DataFrame()\n",
    "sub['ImageId'] = new_test_ids\n",
    "sub['EncodedPixels'] = pd.Series(rles).apply(lambda x: ' '.join(str(y) for y in x))\n",
    "sub.to_csv('../data/dsb18.csv', index=False)"
   ]
  }
 ],
 "metadata": {
  "kernelspec": {
   "display_name": "Python 3",
   "language": "python",
   "name": "python3"
  },
  "language_info": {
   "codemirror_mode": {
    "name": "ipython",
    "version": 3
   },
   "file_extension": ".py",
   "mimetype": "text/x-python",
   "name": "python",
   "nbconvert_exporter": "python",
   "pygments_lexer": "ipython3",
   "version": "3.5.2"
  }
 },
 "nbformat": 4,
 "nbformat_minor": 2
}
